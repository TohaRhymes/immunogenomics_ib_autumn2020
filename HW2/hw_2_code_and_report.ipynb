{
 "cells": [
  {
   "cell_type": "markdown",
   "metadata": {},
   "source": [
    "## Домашнее задание по имууногеномике. __Constructing clonal lineages__\n",
    "\n",
    "__ИБ. осень 2020.__\n",
    "__Чангалиди Антон__\n",
    "\n",
    "\n",
    "\n",
    "(I used IgBlast)"
   ]
  },
  {
   "cell_type": "code",
   "execution_count": 1,
   "metadata": {},
   "outputs": [],
   "source": [
    "import numpy as np\n",
    "import pandas as pd\n",
    "import networkx as nx\n",
    "import seaborn as sns\n",
    "import matplotlib.pylab as plt\n",
    "from collections import Counter"
   ]
  },
  {
   "cell_type": "markdown",
   "metadata": {},
   "source": [
    "The purpose of this assignment is to reconstruct clonal lineages for an antibody repertoire taken after a seasonal flu vaccination and analyze their properties. To complete the assignment, follow the instructions:\n",
    "\n",
    "\n",
    "### Task 1.\n",
    "Download the repertoire file in FASTA format. It consists of 10,000 sequences. \n",
    "\n",
    "It is in the `PRJNA324093_Dnr4_10k.fasta` file.\n",
    "\n"
   ]
  },
  {
   "cell_type": "markdown",
   "metadata": {},
   "source": [
    "### Task 2.\n",
    "(5 points + 5 points) Implement reconstruction of clonal lineages using the Hamming graph (HG) on CDR3s through the following steps: \n",
    "* Compute CDR3s of sequences (e.g., using IgBlast or DiversityAnalyzer, see HW #1 for the details). File:  `igblast_results.tsv`\n",
    "* Compute Hamming distances (HD) for pairs of the computed CDR3s. \n",
    "* Connect two sequences s1 and s2 by an edge if (i) their CDR3s have the same lengths L and  (ii) the HD(CDR3_s1, CDR3_s2) / L ≤ 0.2 (i.e., similarity is at least 80%). Since processing all pairs of sequences takes too much time, optimizations are welcome. Implementation and its brief description of any optimization add 5 points to this part.  \n",
    "* Report connected components of the HG as clonal lineages.\n",
    "* Attach the implemented code to your report.\n"
   ]
  },
  {
   "cell_type": "markdown",
   "metadata": {},
   "source": [
    "Нам нужны только CDR3, а так же их длина (потому что считать HD мы можем только для строк одинаковой длины):"
   ]
  },
  {
   "cell_type": "code",
   "execution_count": 2,
   "metadata": {},
   "outputs": [
    {
     "data": {
      "text/html": [
       "<div>\n",
       "<style scoped>\n",
       "    .dataframe tbody tr th:only-of-type {\n",
       "        vertical-align: middle;\n",
       "    }\n",
       "\n",
       "    .dataframe tbody tr th {\n",
       "        vertical-align: top;\n",
       "    }\n",
       "\n",
       "    .dataframe thead th {\n",
       "        text-align: right;\n",
       "    }\n",
       "</style>\n",
       "<table border=\"1\" class=\"dataframe\">\n",
       "  <thead>\n",
       "    <tr style=\"text-align: right;\">\n",
       "      <th></th>\n",
       "      <th>cdr3</th>\n",
       "      <th>length</th>\n",
       "    </tr>\n",
       "  </thead>\n",
       "  <tbody>\n",
       "    <tr>\n",
       "      <th>5089</th>\n",
       "      <td>GCGAGAGATTATAAC</td>\n",
       "      <td>15</td>\n",
       "    </tr>\n",
       "    <tr>\n",
       "      <th>1029</th>\n",
       "      <td>GCGAGAGATTATAAA</td>\n",
       "      <td>15</td>\n",
       "    </tr>\n",
       "    <tr>\n",
       "      <th>2949</th>\n",
       "      <td>GCGAGAGATTATAAC</td>\n",
       "      <td>15</td>\n",
       "    </tr>\n",
       "    <tr>\n",
       "      <th>144</th>\n",
       "      <td>GCGAGAGATTATAAA</td>\n",
       "      <td>15</td>\n",
       "    </tr>\n",
       "    <tr>\n",
       "      <th>4345</th>\n",
       "      <td>GCGAGAGATTATAAA</td>\n",
       "      <td>15</td>\n",
       "    </tr>\n",
       "  </tbody>\n",
       "</table>\n",
       "</div>"
      ],
      "text/plain": [
       "                 cdr3  length\n",
       "5089  GCGAGAGATTATAAC      15\n",
       "1029  GCGAGAGATTATAAA      15\n",
       "2949  GCGAGAGATTATAAC      15\n",
       "144   GCGAGAGATTATAAA      15\n",
       "4345  GCGAGAGATTATAAA      15"
      ]
     },
     "execution_count": 2,
     "metadata": {},
     "output_type": "execute_result"
    }
   ],
   "source": [
    "data = pd.read_csv('./data_images/igblast_results.tsv', sep = '\\t')\n",
    "data_cdr3 = data.loc[:, ['cdr3']]\n",
    "data_cdr3['length'] = data_cdr3['cdr3'].apply(len)\n",
    "data_cdr3 = data_cdr3.sort_values(by='length')\n",
    "data_cdr3.head()"
   ]
  },
  {
   "cell_type": "markdown",
   "metadata": {},
   "source": [
    "Интересно посмотреть на распределение длины cdr3:"
   ]
  },
  {
   "cell_type": "code",
   "execution_count": 3,
   "metadata": {},
   "outputs": [
    {
     "data": {
      "text/plain": [
       "<seaborn.axisgrid.FacetGrid at 0x7f78be7f6610>"
      ]
     },
     "execution_count": 3,
     "metadata": {},
     "output_type": "execute_result"
    },
    {
     "data": {
      "image/png": "[encoded data removed]",
      "text/plain": [
       "<Figure size 360x360 with 1 Axes>"
      ]
     },
     "metadata": {
      "needs_background": "light"
     },
     "output_type": "display_data"
    }
   ],
   "source": [
    "sns.displot(data_cdr3.length)"
   ]
  },
  {
   "cell_type": "markdown",
   "metadata": {},
   "source": [
    "Так как HD будем считать только для строк одинаковой длины, сгруппируем их и создадим для каждой длины свой лист: так мы будем перебирать не $n^2$ пар, а в разы меньше - __оптимизация №1__"
   ]
  },
  {
   "cell_type": "code",
   "execution_count": 4,
   "metadata": {},
   "outputs": [
    {
     "data": {
      "text/html": [
       "<div>\n",
       "<style scoped>\n",
       "    .dataframe tbody tr th:only-of-type {\n",
       "        vertical-align: middle;\n",
       "    }\n",
       "\n",
       "    .dataframe tbody tr th {\n",
       "        vertical-align: top;\n",
       "    }\n",
       "\n",
       "    .dataframe thead th {\n",
       "        text-align: right;\n",
       "    }\n",
       "</style>\n",
       "<table border=\"1\" class=\"dataframe\">\n",
       "  <thead>\n",
       "    <tr style=\"text-align: right;\">\n",
       "      <th></th>\n",
       "      <th>cdr3</th>\n",
       "      <th>length</th>\n",
       "    </tr>\n",
       "  </thead>\n",
       "  <tbody>\n",
       "    <tr>\n",
       "      <th>5089</th>\n",
       "      <td>GCGAGAGATTATAAC</td>\n",
       "      <td>15</td>\n",
       "    </tr>\n",
       "    <tr>\n",
       "      <th>1029</th>\n",
       "      <td>GCGAGAGATTATAAA</td>\n",
       "      <td>15</td>\n",
       "    </tr>\n",
       "    <tr>\n",
       "      <th>2949</th>\n",
       "      <td>GCGAGAGATTATAAC</td>\n",
       "      <td>15</td>\n",
       "    </tr>\n",
       "    <tr>\n",
       "      <th>144</th>\n",
       "      <td>GCGAGAGATTATAAA</td>\n",
       "      <td>15</td>\n",
       "    </tr>\n",
       "    <tr>\n",
       "      <th>4345</th>\n",
       "      <td>GCGAGAGATTATAAA</td>\n",
       "      <td>15</td>\n",
       "    </tr>\n",
       "    <tr>\n",
       "      <th>...</th>\n",
       "      <td>...</td>\n",
       "      <td>...</td>\n",
       "    </tr>\n",
       "    <tr>\n",
       "      <th>9060</th>\n",
       "      <td>GCGAGAGTTGAACAGGGCGGTCACTGGCATTGTGTGGTGGTGACTG...</td>\n",
       "      <td>85</td>\n",
       "    </tr>\n",
       "    <tr>\n",
       "      <th>7951</th>\n",
       "      <td>GCGAGAGTTGAACAGGGCGATCACTGGCATTGTGTGGTGGTGACTG...</td>\n",
       "      <td>85</td>\n",
       "    </tr>\n",
       "    <tr>\n",
       "      <th>9477</th>\n",
       "      <td>GCGAGAGTTGAACAGGGCGATCACTGGCATTGTGTGGTGGTGACTG...</td>\n",
       "      <td>85</td>\n",
       "    </tr>\n",
       "    <tr>\n",
       "      <th>9845</th>\n",
       "      <td>GCGAGAGTTGAACAGGGCGATCACTGGCATTGTGTGGTGGTGACTG...</td>\n",
       "      <td>85</td>\n",
       "    </tr>\n",
       "    <tr>\n",
       "      <th>7686</th>\n",
       "      <td>GCGAGACATGTACGAAGGGGCGAGTGGCTGGCGCGGGAAATTGCCT...</td>\n",
       "      <td>117</td>\n",
       "    </tr>\n",
       "  </tbody>\n",
       "</table>\n",
       "<p>10000 rows × 2 columns</p>\n",
       "</div>"
      ],
      "text/plain": [
       "                                                   cdr3  length\n",
       "5089                                    GCGAGAGATTATAAC      15\n",
       "1029                                    GCGAGAGATTATAAA      15\n",
       "2949                                    GCGAGAGATTATAAC      15\n",
       "144                                     GCGAGAGATTATAAA      15\n",
       "4345                                    GCGAGAGATTATAAA      15\n",
       "...                                                 ...     ...\n",
       "9060  GCGAGAGTTGAACAGGGCGGTCACTGGCATTGTGTGGTGGTGACTG...      85\n",
       "7951  GCGAGAGTTGAACAGGGCGATCACTGGCATTGTGTGGTGGTGACTG...      85\n",
       "9477  GCGAGAGTTGAACAGGGCGATCACTGGCATTGTGTGGTGGTGACTG...      85\n",
       "9845  GCGAGAGTTGAACAGGGCGATCACTGGCATTGTGTGGTGGTGACTG...      85\n",
       "7686  GCGAGACATGTACGAAGGGGCGAGTGGCTGGCGCGGGAAATTGCCT...     117\n",
       "\n",
       "[10000 rows x 2 columns]"
      ]
     },
     "execution_count": 4,
     "metadata": {},
     "output_type": "execute_result"
    }
   ],
   "source": [
    "data_cdr3[:]"
   ]
  },
  {
   "cell_type": "code",
   "execution_count": 5,
   "metadata": {},
   "outputs": [],
   "source": [
    "# group by length\n",
    "# create unique list of names\n",
    "UniqueNames = data_cdr3['length'].unique()\n",
    "# create a data frame dictionary to store lists of sequences\n",
    "cdrs_list = {elem: pd.DataFrame for elem in UniqueNames}\n",
    "for key in cdrs_list.keys():\n",
    "    cdrs_list.update({key: list(data_cdr3[:][data_cdr3['length'] == key].cdr3.items())})"
   ]
  },
  {
   "cell_type": "markdown",
   "metadata": {},
   "source": [
    "Напишем функцию для подсчета дистанции Хэмминга (__с оптимизацией №2__): \n",
    "* если мы при подсчете уже получили HD(CDR3_s1, CDR3_s2) / L ≤ 0.2 - дальше считать не будем, просто вернем False (т.е. строчки связывать ребром не надо).\n",
    "* для сравнения, добавим функцию, которая не использует эту оптимизацию"
   ]
  },
  {
   "cell_type": "code",
   "execution_count": 6,
   "metadata": {},
   "outputs": [],
   "source": [
    "def check_hamming_dist(s1, s2, cut = 0.2):\n",
    "    '''\n",
    "        Функция, считающая дистанцию hamming'a, \n",
    "        \n",
    "        Returns:\n",
    "            True, только в том случае, если HD/len <= cut\n",
    "            False - иначе\n",
    "            \n",
    "        Здесь выполнена оптимизация: если мы при подсчете \n",
    "        уже получили HD/len > cut - дальше считать не будем.  \n",
    "    '''\n",
    "    assert len(s1) == len (s2), 'Strings must be the same length to calculate HD.'\n",
    "    length = len(s1)\n",
    "    dist = 0\n",
    "    for let1, let2 in zip(s1, s2):\n",
    "        dist += (let1 != let2)\n",
    "        if dist / length > cut:\n",
    "            return False\n",
    "    return True\n",
    "\n",
    "def check_hamming_dist_without_opt(s1, s2, cut = 0.2):\n",
    "    assert len(s1) == len (s2), 'Strings must be the same length to calculate HD.'\n",
    "    length = len(s1)\n",
    "    dist = 0\n",
    "    for let1, let2 in zip(s1, s2):\n",
    "        dist += (let1 != let2)\n",
    "    if dist / length > cut:\n",
    "        return False\n",
    "    return True"
   ]
  },
  {
   "cell_type": "code",
   "execution_count": 7,
   "metadata": {},
   "outputs": [
    {
     "name": "stdout",
     "output_type": "stream",
     "text": [
      "CPU times: user 19.8 s, sys: 20.1 ms, total: 19.8 s\n",
      "Wall time: 19.9 s\n"
     ]
    }
   ],
   "source": [
    "%%time\n",
    "graph = nx.Graph()\n",
    "for length, seqs in cdrs_list.items():\n",
    "    for i, (_, seq1) in enumerate(seqs):\n",
    "        for j, (_,  seq2) in enumerate(seqs[i:]):\n",
    "            if check_hamming_dist(seq1, seq2):\n",
    "                graph.add_edge(seq1, seq2)"
   ]
  },
  {
   "cell_type": "code",
   "execution_count": 8,
   "metadata": {},
   "outputs": [
    {
     "name": "stdout",
     "output_type": "stream",
     "text": [
      "CPU times: user 25.1 s, sys: 34.1 ms, total: 25.1 s\n",
      "Wall time: 25.1 s\n"
     ]
    }
   ],
   "source": [
    "%%time\n",
    "graph = nx.Graph()\n",
    "for length, seqs in cdrs_list.items():\n",
    "    for i, (_, seq1) in enumerate(seqs):\n",
    "        for j, (_, seq2) in enumerate(seqs[i:]):\n",
    "            if check_hamming_dist_without_opt(seq1, seq2):\n",
    "                graph.add_edge(seq1, seq2)"
   ]
  },
  {
   "cell_type": "markdown",
   "metadata": {},
   "source": [
    "Выигрыш: вместо \\~25 получили \\~20 секунд (\\~20 процентов времени - не плохо)"
   ]
  },
  {
   "cell_type": "markdown",
   "metadata": {
    "pycharm": {
     "name": "#%% md\n"
    }
   },
   "source": [
    "### Task 3.\n",
    "\n",
    "(5 points) Analyze the computed clonal lineages and fill blank cells in Table 1:\n",
    "\n",
    "__Важный момент__: тут вершины - последовательности, поэтому если было 2 одинаковых сиквенса, то они склеились, поэтому число тут - число уникальных сиквенсов.\n"
   ]
  },
  {
   "cell_type": "code",
   "execution_count": 9,
   "metadata": {},
   "outputs": [
    {
     "name": "stdout",
     "output_type": "stream",
     "text": [
      "The number of clonal lineages: 546\n",
      "The number of sequences in the largest lineage: 122\n",
      "The number of clonal lineages presented by at least 10 sequences: 46\n"
     ]
    }
   ],
   "source": [
    "print(f'The number of clonal lineages: {nx.number_connected_components(graph)}')\n",
    "\n",
    "comp = nx.connected_components(graph)\n",
    "list_c = []\n",
    "for i in comp:\n",
    "    list_c.append(i)\n",
    "#     print(len(i), i)\n",
    "# print(list_c)\n",
    "giant = max(list_c, key=len)\n",
    "print(f'The number of sequences in the largest lineage: {len(giant)}')\n",
    "\n",
    "graph_10 = np.array([len(el) for el in list_c])\n",
    "count_10 = np.sum(graph_10 >= 10)\n",
    "print(f'The number of clonal lineages presented by at least 10 sequences: {count_10}')"
   ]
  },
  {
   "cell_type": "markdown",
   "metadata": {
    "pycharm": {
     "name": "#%% md\n"
    }
   },
   "source": [
    "<table class=\"tg\">\n",
    "<tbody>\n",
    "  <tr>\n",
    "    <td class=\"tg-fymr\"><span style=\"font-weight:400;font-style:normal;text-decoration:none;color:#000;background-color:transparent\">The number of clonal lineages</span></th>\n",
    "    <td class=\"tg-fymr\">546</th>\n",
    "  </tr>\n",
    "  <tr>\n",
    "    <td class=\"tg-0pky\"><span style=\"font-weight:400;font-style:normal;text-decoration:none;color:#000;background-color:transparent\">The number of sequences in the largest lineage</span></td>\n",
    "    <td class=\"tg-0pky\">122</td>\n",
    "  </tr>\n",
    "  <tr>\n",
    "    <td class=\"tg-0pky\"><span style=\"font-weight:400;font-style:normal;text-decoration:none;color:#000;background-color:transparent\">The number of clonal lineages presented by at least 10 sequences</span></td>\n",
    "    <td class=\"tg-0pky\">46</td>\n",
    "  </tr>\n",
    "</tbody>\n",
    "</table>"
   ]
  },
  {
   "cell_type": "markdown",
   "metadata": {
    "pycharm": {
     "name": "#%% md\n"
    }
   },
   "source": [
    "### Task 4.\n",
    "(5 points) For each lineage, compute the closest V gene (e.g., using IgBlast or DiversityAnalyzer, see HW #1 for the details), create a usage plot of the computed V genes (x axis shows V genes, y axis shows the number of clonal lineages formed by each of V genes), and insert it below:\n",
    "\n",
    "[V usage plot]\n"
   ]
  },
  {
   "cell_type": "code",
   "execution_count": 10,
   "metadata": {},
   "outputs": [],
   "source": [
    "def return_gene(string):\n",
    "    end = string.find('*')\n",
    "    return string[:end]"
   ]
  },
  {
   "cell_type": "code",
   "execution_count": 11,
   "metadata": {},
   "outputs": [],
   "source": [
    "data['my_v_gene'] = data['v_call'].apply(return_gene)\n",
    "v_genes = Counter()\n",
    "for component in nx.connected_components(graph):\n",
    "    seqs_with_ids = cdrs_list[len(next(iter(component)))]\n",
    "    cur_v_genes = Counter()\n",
    "    for seq in component:\n",
    "        for id_seq, ref_seq in seqs_with_ids:\n",
    "            if seq == ref_seq:\n",
    "                cur_v_genes[data.iloc[id_seq]['my_v_gene']]+=1\n",
    "    v_genes[cur_v_genes.most_common()[0][0]] +=1"
   ]
  },
  {
   "cell_type": "code",
   "execution_count": 12,
   "metadata": {},
   "outputs": [
    {
     "data": {
      "image/png": "[encoded data removed]",
      "text/plain": [
       "<Figure size 1440x720 with 1 Axes>"
      ]
     },
     "metadata": {
      "needs_background": "light"
     },
     "output_type": "display_data"
    }
   ],
   "source": [
    "from pylab import rcParams\n",
    "rcParams['figure.figsize'] = 20, 10\n",
    "v_genes = dict(sorted(v_genes.items(), key=lambda item: -item[1]))\n",
    "plt.bar(list(v_genes.keys()), v_genes.values(), color='darkseagreen')\n",
    "plt.xticks(rotation=90)\n",
    "plt.show()"
   ]
  },
  {
   "cell_type": "markdown",
   "metadata": {
    "pycharm": {
     "name": "#%% md\n"
    }
   },
   "source": [
    "### Task 5. \n",
    "(5 points) Create a web logo plot of CDR3s from the largest clonal lineage and insert it below:\n",
    "\n"
   ]
  },
  {
   "cell_type": "code",
   "execution_count": 13,
   "metadata": {},
   "outputs": [],
   "source": [
    "with open('./data_images/giant_lineage.fa', 'w') as f:\n",
    "    for item in giant:\n",
    "        f.write(\">seq\\n%s\\n\" % item)"
   ]
  },
  {
   "cell_type": "code",
   "execution_count": 14,
   "metadata": {
    "pycharm": {
     "name": "#%%\n"
    }
   },
   "outputs": [],
   "source": [
    "!weblogo < ./data_images/giant_lineage.fa > ./data_images/sequence_logo.png -n 150 --format PNG"
   ]
  },
  {
   "cell_type": "markdown",
   "metadata": {},
   "source": [
    "![hey](./data_images/sequence_logo.png)"
   ]
  },
  {
   "cell_type": "markdown",
   "metadata": {
    "pycharm": {
     "name": "#%% md\n"
    }
   },
   "source": [
    "### Task 6. \n",
    "(5 points) Extract VDJ sequences from the largest lineage and compute their phylogenetic tree (e.g., using Clustal Omega https://www.ebi.ac.uk/tools/msa/clustalo). Visualize the resulting tree (e.g., via Iroki tool: http://www.iroki.net/viewer) and add it below:\n",
    " \n",
    "[Tree figure]  \n"
   ]
  },
  {
   "cell_type": "code",
   "execution_count": 15,
   "metadata": {},
   "outputs": [],
   "source": [
    "with open('./data_images/vdj_giant.fasta', 'w') as out:\n",
    "    seqs_with_ids = cdrs_list[len(next(iter(giant)))]\n",
    "    for seq in giant:\n",
    "        for id_seq, ref_seq in seqs_with_ids:\n",
    "            if seq == ref_seq:\n",
    "                ser = data.iloc[id_seq]\n",
    "                out.write(f\">{ser['sequence_id']}\\n{ser['sequence']}\\n\")"
   ]
  },
  {
   "cell_type": "markdown",
   "metadata": {},
   "source": [
    "![heyy](./data_images/tree_without_names.png)\n",
    "C id:\n",
    "![heyy](./data_images/tree_cut.png)"
   ]
  }
 ],
 "metadata": {
  "kernelspec": {
   "display_name": "Python 3",
   "language": "python",
   "name": "python3"
  },
  "language_info": {
   "codemirror_mode": {
    "name": "ipython",
    "version": 3
   },
   "file_extension": ".py",
   "mimetype": "text/x-python",
   "name": "python",
   "nbconvert_exporter": "python",
   "pygments_lexer": "ipython3",
   "version": "3.7.7"
  }
 },
 "nbformat": 4,
 "nbformat_minor": 4
}
